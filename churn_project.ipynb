{
 "cells": [
  {
   "cell_type": "markdown",
   "id": "eae8c2cf-c194-4ffb-ab59-fc9516d8126a",
   "metadata": {},
   "source": [
    "# Big Data Churn Prediction with Spark\n",
    "\n",
    "+ This project involves developing a machine learning classification model to predict customer churn, evaluating the model's performance, and visualizing the results. By doing so, we aim to gain valuable insights to support business decisions.\n",
    "\n",
    "+ To predict customer behavior, we will use one of the PySpark machine learning packages called **_GBTClassifier_**.\n",
    "\n",
    "<img src= 'https://www.cleartouch.in/wp-content/uploads/2022/11/Customer-Churn.png'>"
   ]
  },
  {
   "cell_type": "markdown",
   "id": "e4ca12a7-242b-4ae7-98a6-1b82c54db9f2",
   "metadata": {},
   "source": [
    "### Importing the necessary packages"
   ]
  },
  {
   "cell_type": "code",
   "execution_count": 1,
   "id": "91449edf-0eb6-4e04-a939-3fa741112a30",
   "metadata": {},
   "outputs": [],
   "source": [
    "import pandas as pd\n",
    "import warnings\n",
    "import matplotlib.pyplot as plt\n",
    "import seaborn as sns\n",
    "\n",
    "from sklearn.metrics import roc_curve, auc\n",
    "from sklearn.metrics import confusion_matrix\n",
    "warnings.filterwarnings('ignore')\n",
    "\n",
    "from pyspark.sql import SparkSession\n",
    "from pyspark.ml.feature import VectorAssembler\n",
    "from pyspark.ml.classification import GBTClassifier\n",
    "from pyspark.ml.evaluation import MulticlassClassificationEvaluator"
   ]
  },
  {
   "cell_type": "markdown",
   "id": "65af5491-e709-4588-951f-1bd9fc6383a3",
   "metadata": {},
   "source": [
    "### Importing the data"
   ]
  },
  {
   "cell_type": "code",
   "execution_count": 2,
   "id": "54e659b8-5467-4b23-8d84-65e0f05848f1",
   "metadata": {},
   "outputs": [],
   "source": [
    "df = pd.read_csv('churn.csv')"
   ]
  },
  {
   "cell_type": "markdown",
   "id": "d8e7827c-54f3-40e3-badd-c16cf8f0a932",
   "metadata": {},
   "source": [
    "### EDA - Exploratory Data Analysis"
   ]
  },
  {
   "cell_type": "code",
   "execution_count": 3,
   "id": "b34d9eff-64c9-4b82-83de-9e8fa8a28e2c",
   "metadata": {},
   "outputs": [
    {
     "data": {
      "text/html": [
       "<div>\n",
       "<style scoped>\n",
       "    .dataframe tbody tr th:only-of-type {\n",
       "        vertical-align: middle;\n",
       "    }\n",
       "\n",
       "    .dataframe tbody tr th {\n",
       "        vertical-align: top;\n",
       "    }\n",
       "\n",
       "    .dataframe thead th {\n",
       "        text-align: right;\n",
       "    }\n",
       "</style>\n",
       "<table border=\"1\" class=\"dataframe\">\n",
       "  <thead>\n",
       "    <tr style=\"text-align: right;\">\n",
       "      <th></th>\n",
       "      <th>Unnamed: 0</th>\n",
       "      <th>Names</th>\n",
       "      <th>Age</th>\n",
       "      <th>Total_Purchase</th>\n",
       "      <th>Account_Manager</th>\n",
       "      <th>Years</th>\n",
       "      <th>Num_Sites</th>\n",
       "      <th>Churn</th>\n",
       "    </tr>\n",
       "  </thead>\n",
       "  <tbody>\n",
       "    <tr>\n",
       "      <th>0</th>\n",
       "      <td>0</td>\n",
       "      <td>Cameron Williams</td>\n",
       "      <td>42.0</td>\n",
       "      <td>11066.80</td>\n",
       "      <td>0</td>\n",
       "      <td>7.22</td>\n",
       "      <td>8.0</td>\n",
       "      <td>1</td>\n",
       "    </tr>\n",
       "    <tr>\n",
       "      <th>1</th>\n",
       "      <td>1</td>\n",
       "      <td>Kevin Mueller</td>\n",
       "      <td>41.0</td>\n",
       "      <td>11916.22</td>\n",
       "      <td>0</td>\n",
       "      <td>6.50</td>\n",
       "      <td>11.0</td>\n",
       "      <td>1</td>\n",
       "    </tr>\n",
       "    <tr>\n",
       "      <th>2</th>\n",
       "      <td>2</td>\n",
       "      <td>Eric Lozano</td>\n",
       "      <td>38.0</td>\n",
       "      <td>12884.75</td>\n",
       "      <td>0</td>\n",
       "      <td>6.67</td>\n",
       "      <td>12.0</td>\n",
       "      <td>1</td>\n",
       "    </tr>\n",
       "    <tr>\n",
       "      <th>3</th>\n",
       "      <td>3</td>\n",
       "      <td>Phillip White</td>\n",
       "      <td>42.0</td>\n",
       "      <td>8010.76</td>\n",
       "      <td>0</td>\n",
       "      <td>6.71</td>\n",
       "      <td>10.0</td>\n",
       "      <td>1</td>\n",
       "    </tr>\n",
       "    <tr>\n",
       "      <th>4</th>\n",
       "      <td>4</td>\n",
       "      <td>Cynthia Norton</td>\n",
       "      <td>37.0</td>\n",
       "      <td>9191.58</td>\n",
       "      <td>0</td>\n",
       "      <td>5.56</td>\n",
       "      <td>9.0</td>\n",
       "      <td>1</td>\n",
       "    </tr>\n",
       "  </tbody>\n",
       "</table>\n",
       "</div>"
      ],
      "text/plain": [
       "   Unnamed: 0             Names   Age  Total_Purchase  Account_Manager  Years  \\\n",
       "0           0  Cameron Williams  42.0        11066.80                0   7.22   \n",
       "1           1     Kevin Mueller  41.0        11916.22                0   6.50   \n",
       "2           2       Eric Lozano  38.0        12884.75                0   6.67   \n",
       "3           3     Phillip White  42.0         8010.76                0   6.71   \n",
       "4           4    Cynthia Norton  37.0         9191.58                0   5.56   \n",
       "\n",
       "   Num_Sites  Churn  \n",
       "0        8.0      1  \n",
       "1       11.0      1  \n",
       "2       12.0      1  \n",
       "3       10.0      1  \n",
       "4        9.0      1  "
      ]
     },
     "execution_count": 3,
     "metadata": {},
     "output_type": "execute_result"
    }
   ],
   "source": [
    "df.head()"
   ]
  },
  {
   "cell_type": "code",
   "execution_count": 4,
   "id": "ac7cb3d3-db00-4c56-935d-8183bdac3cc6",
   "metadata": {},
   "outputs": [
    {
     "name": "stdout",
     "output_type": "stream",
     "text": [
      "<class 'pandas.core.frame.DataFrame'>\n",
      "RangeIndex: 900 entries, 0 to 899\n",
      "Data columns (total 8 columns):\n",
      " #   Column           Non-Null Count  Dtype  \n",
      "---  ------           --------------  -----  \n",
      " 0   Unnamed: 0       900 non-null    int64  \n",
      " 1   Names            900 non-null    object \n",
      " 2   Age              900 non-null    float64\n",
      " 3   Total_Purchase   900 non-null    float64\n",
      " 4   Account_Manager  900 non-null    int64  \n",
      " 5   Years            900 non-null    float64\n",
      " 6   Num_Sites        900 non-null    float64\n",
      " 7   Churn            900 non-null    int64  \n",
      "dtypes: float64(4), int64(3), object(1)\n",
      "memory usage: 56.4+ KB\n"
     ]
    }
   ],
   "source": [
    "df.info()"
   ]
  },
  {
   "cell_type": "code",
   "execution_count": 5,
   "id": "78030a46-5572-40ed-938c-fdcf792af973",
   "metadata": {},
   "outputs": [
    {
     "data": {
      "text/html": [
       "<div>\n",
       "<style scoped>\n",
       "    .dataframe tbody tr th:only-of-type {\n",
       "        vertical-align: middle;\n",
       "    }\n",
       "\n",
       "    .dataframe tbody tr th {\n",
       "        vertical-align: top;\n",
       "    }\n",
       "\n",
       "    .dataframe thead th {\n",
       "        text-align: right;\n",
       "    }\n",
       "</style>\n",
       "<table border=\"1\" class=\"dataframe\">\n",
       "  <thead>\n",
       "    <tr style=\"text-align: right;\">\n",
       "      <th></th>\n",
       "      <th>Unnamed: 0</th>\n",
       "      <th>Names</th>\n",
       "      <th>Age</th>\n",
       "      <th>Total_Purchase</th>\n",
       "      <th>Account_Manager</th>\n",
       "      <th>Years</th>\n",
       "      <th>Num_Sites</th>\n",
       "      <th>Churn</th>\n",
       "    </tr>\n",
       "  </thead>\n",
       "  <tbody>\n",
       "    <tr>\n",
       "      <th>895</th>\n",
       "      <td>895</td>\n",
       "      <td>Paul Miller</td>\n",
       "      <td>42.0</td>\n",
       "      <td>12800.82</td>\n",
       "      <td>1</td>\n",
       "      <td>3.62</td>\n",
       "      <td>8.0</td>\n",
       "      <td>0</td>\n",
       "    </tr>\n",
       "    <tr>\n",
       "      <th>896</th>\n",
       "      <td>896</td>\n",
       "      <td>Natalie Hodges</td>\n",
       "      <td>52.0</td>\n",
       "      <td>9893.92</td>\n",
       "      <td>0</td>\n",
       "      <td>6.91</td>\n",
       "      <td>7.0</td>\n",
       "      <td>0</td>\n",
       "    </tr>\n",
       "    <tr>\n",
       "      <th>897</th>\n",
       "      <td>897</td>\n",
       "      <td>Ana Smith</td>\n",
       "      <td>45.0</td>\n",
       "      <td>12056.18</td>\n",
       "      <td>0</td>\n",
       "      <td>5.46</td>\n",
       "      <td>4.0</td>\n",
       "      <td>0</td>\n",
       "    </tr>\n",
       "    <tr>\n",
       "      <th>898</th>\n",
       "      <td>898</td>\n",
       "      <td>Justin Leonard</td>\n",
       "      <td>51.0</td>\n",
       "      <td>6517.93</td>\n",
       "      <td>1</td>\n",
       "      <td>5.47</td>\n",
       "      <td>10.0</td>\n",
       "      <td>0</td>\n",
       "    </tr>\n",
       "    <tr>\n",
       "      <th>899</th>\n",
       "      <td>899</td>\n",
       "      <td>Joseph Williams</td>\n",
       "      <td>39.0</td>\n",
       "      <td>9315.60</td>\n",
       "      <td>1</td>\n",
       "      <td>5.02</td>\n",
       "      <td>10.0</td>\n",
       "      <td>0</td>\n",
       "    </tr>\n",
       "  </tbody>\n",
       "</table>\n",
       "</div>"
      ],
      "text/plain": [
       "     Unnamed: 0            Names   Age  Total_Purchase  Account_Manager  \\\n",
       "895         895      Paul Miller  42.0        12800.82                1   \n",
       "896         896   Natalie Hodges  52.0         9893.92                0   \n",
       "897         897        Ana Smith  45.0        12056.18                0   \n",
       "898         898   Justin Leonard  51.0         6517.93                1   \n",
       "899         899  Joseph Williams  39.0         9315.60                1   \n",
       "\n",
       "     Years  Num_Sites  Churn  \n",
       "895   3.62        8.0      0  \n",
       "896   6.91        7.0      0  \n",
       "897   5.46        4.0      0  \n",
       "898   5.47       10.0      0  \n",
       "899   5.02       10.0      0  "
      ]
     },
     "execution_count": 5,
     "metadata": {},
     "output_type": "execute_result"
    }
   ],
   "source": [
    "df.tail()"
   ]
  },
  {
   "cell_type": "code",
   "execution_count": 6,
   "id": "53cdaf01-a97e-4538-90d4-ebadba71c1cd",
   "metadata": {},
   "outputs": [
    {
     "data": {
      "text/plain": [
       "Unnamed: 0         0\n",
       "Names              0\n",
       "Age                0\n",
       "Total_Purchase     0\n",
       "Account_Manager    0\n",
       "Years              0\n",
       "Num_Sites          0\n",
       "Churn              0\n",
       "dtype: int64"
      ]
     },
     "execution_count": 6,
     "metadata": {},
     "output_type": "execute_result"
    }
   ],
   "source": [
    "df.isnull().sum()"
   ]
  },
  {
   "cell_type": "markdown",
   "id": "4bc44c08-6a62-42c0-a37a-5e98a7e2e95a",
   "metadata": {},
   "source": [
    "### Feature Engineering"
   ]
  },
  {
   "cell_type": "code",
   "execution_count": 7,
   "id": "0a4bce1b-998e-4478-b71a-36953df38d01",
   "metadata": {},
   "outputs": [],
   "source": [
    "df.drop(['Unnamed: 0','Names'], axis=1,inplace=True)"
   ]
  },
  {
   "cell_type": "code",
   "execution_count": 8,
   "id": "c6f0ca8f-e68a-4eae-8512-9d1d0e86c395",
   "metadata": {},
   "outputs": [
    {
     "data": {
      "text/html": [
       "<div>\n",
       "<style scoped>\n",
       "    .dataframe tbody tr th:only-of-type {\n",
       "        vertical-align: middle;\n",
       "    }\n",
       "\n",
       "    .dataframe tbody tr th {\n",
       "        vertical-align: top;\n",
       "    }\n",
       "\n",
       "    .dataframe thead th {\n",
       "        text-align: right;\n",
       "    }\n",
       "</style>\n",
       "<table border=\"1\" class=\"dataframe\">\n",
       "  <thead>\n",
       "    <tr style=\"text-align: right;\">\n",
       "      <th></th>\n",
       "      <th>Age</th>\n",
       "      <th>Total_Purchase</th>\n",
       "      <th>Account_Manager</th>\n",
       "      <th>Years</th>\n",
       "      <th>Num_Sites</th>\n",
       "      <th>Churn</th>\n",
       "    </tr>\n",
       "  </thead>\n",
       "  <tbody>\n",
       "    <tr>\n",
       "      <th>0</th>\n",
       "      <td>42.0</td>\n",
       "      <td>11066.80</td>\n",
       "      <td>0</td>\n",
       "      <td>7.22</td>\n",
       "      <td>8.0</td>\n",
       "      <td>1</td>\n",
       "    </tr>\n",
       "    <tr>\n",
       "      <th>1</th>\n",
       "      <td>41.0</td>\n",
       "      <td>11916.22</td>\n",
       "      <td>0</td>\n",
       "      <td>6.50</td>\n",
       "      <td>11.0</td>\n",
       "      <td>1</td>\n",
       "    </tr>\n",
       "    <tr>\n",
       "      <th>2</th>\n",
       "      <td>38.0</td>\n",
       "      <td>12884.75</td>\n",
       "      <td>0</td>\n",
       "      <td>6.67</td>\n",
       "      <td>12.0</td>\n",
       "      <td>1</td>\n",
       "    </tr>\n",
       "    <tr>\n",
       "      <th>3</th>\n",
       "      <td>42.0</td>\n",
       "      <td>8010.76</td>\n",
       "      <td>0</td>\n",
       "      <td>6.71</td>\n",
       "      <td>10.0</td>\n",
       "      <td>1</td>\n",
       "    </tr>\n",
       "    <tr>\n",
       "      <th>4</th>\n",
       "      <td>37.0</td>\n",
       "      <td>9191.58</td>\n",
       "      <td>0</td>\n",
       "      <td>5.56</td>\n",
       "      <td>9.0</td>\n",
       "      <td>1</td>\n",
       "    </tr>\n",
       "  </tbody>\n",
       "</table>\n",
       "</div>"
      ],
      "text/plain": [
       "    Age  Total_Purchase  Account_Manager  Years  Num_Sites  Churn\n",
       "0  42.0        11066.80                0   7.22        8.0      1\n",
       "1  41.0        11916.22                0   6.50       11.0      1\n",
       "2  38.0        12884.75                0   6.67       12.0      1\n",
       "3  42.0         8010.76                0   6.71       10.0      1\n",
       "4  37.0         9191.58                0   5.56        9.0      1"
      ]
     },
     "execution_count": 8,
     "metadata": {},
     "output_type": "execute_result"
    }
   ],
   "source": [
    "df.head()"
   ]
  },
  {
   "cell_type": "markdown",
   "id": "7b9b8d98-9c2f-4fb1-9d0b-3a0c440478ad",
   "metadata": {},
   "source": [
    "### Initializing the Spark Session"
   ]
  },
  {
   "cell_type": "code",
   "execution_count": 9,
   "id": "df90f16d-54d2-49dd-ac13-835ef010fafb",
   "metadata": {},
   "outputs": [
    {
     "name": "stderr",
     "output_type": "stream",
     "text": [
      "Setting default log level to \"WARN\".\n",
      "To adjust logging level use sc.setLogLevel(newLevel). For SparkR, use setLogLevel(newLevel).\n",
      "25/02/17 21:03:01 WARN NativeCodeLoader: Unable to load native-hadoop library for your platform... using builtin-java classes where applicable\n"
     ]
    }
   ],
   "source": [
    "spark = SparkSession.builder \\\n",
    "    .appName('Churn Prediction') \\\n",
    "    .getOrCreate()\n",
    "data = spark.createDataFrame(df)"
   ]
  },
  {
   "cell_type": "code",
   "execution_count": 10,
   "id": "58b10381-32a9-4590-beda-0c2ec599a628",
   "metadata": {},
   "outputs": [
    {
     "name": "stdout",
     "output_type": "stream",
     "text": [
      "root\n",
      " |-- Age: double (nullable = true)\n",
      " |-- Total_Purchase: double (nullable = true)\n",
      " |-- Account_Manager: long (nullable = true)\n",
      " |-- Years: double (nullable = true)\n",
      " |-- Num_Sites: double (nullable = true)\n",
      " |-- Churn: long (nullable = true)\n",
      "\n"
     ]
    }
   ],
   "source": [
    "data.printSchema() #showing the data schema"
   ]
  },
  {
   "cell_type": "code",
   "execution_count": 11,
   "id": "5e9b2207-3237-424e-8d70-2ac921099c85",
   "metadata": {},
   "outputs": [],
   "source": [
    "feature_columns = ['Age', 'Total_Purchase', 'Account_Manager', 'Years','Num_Sites']\n",
    "assembler = VectorAssembler(inputCols=feature_columns, outputCol='features')\n",
    "data = assembler.transform(data)\n",
    "\n",
    "final_data = data.select('features', 'churn') #selecting only the features and label\n",
    "train_data, test_data = final_data.randomSplit([0.8, 0.2], seed=42) #splitting the data into training and test sets\n",
    "gbt = GBTClassifier(labelCol='churn', featuresCol='features', maxIter=10) #initializing the GBTClassifier"
   ]
  },
  {
   "cell_type": "code",
   "execution_count": 12,
   "id": "d53c96c6-a214-4467-8922-d8956b443d40",
   "metadata": {},
   "outputs": [
    {
     "name": "stderr",
     "output_type": "stream",
     "text": [
      "                                                                                \r"
     ]
    }
   ],
   "source": [
    "#fit and predict\n",
    "model = gbt.fit(train_data)\n",
    "predictions = model.transform(test_data)"
   ]
  },
  {
   "cell_type": "code",
   "execution_count": 13,
   "id": "0dd6abc4-22c4-4a9a-8138-d1b06afc6b52",
   "metadata": {},
   "outputs": [
    {
     "name": "stderr",
     "output_type": "stream",
     "text": [
      "25/02/17 21:03:26 WARN InstanceBuilder: Failed to load implementation from:dev.ludovic.netlib.blas.JNIBLAS\n",
      "                                                                                \r"
     ]
    },
    {
     "name": "stdout",
     "output_type": "stream",
     "text": [
      "Test set accuracy: 0.87\n",
      "Test set weighted precision: 0.86\n",
      "Test set weighted recall: 0.87\n",
      "Test set F1 score: 0.86\n"
     ]
    }
   ],
   "source": [
    "#evaluating the model\n",
    "accuracy_evaluator = MulticlassClassificationEvaluator(labelCol='churn', predictionCol='prediction', metricName='accuracy')\n",
    "accuracy = accuracy_evaluator.evaluate(predictions)\n",
    "\n",
    "#precision\n",
    "precision_evaluator = MulticlassClassificationEvaluator(labelCol='churn', predictionCol='prediction', metricName='weightedPrecision')\n",
    "precision = precision_evaluator.evaluate(predictions)\n",
    "\n",
    "#recall\n",
    "recall_evaluator = MulticlassClassificationEvaluator(labelCol='churn', predictionCol='prediction', metricName='weightedRecall')\n",
    "recall = recall_evaluator.evaluate(predictions)\n",
    "\n",
    "#F1 Score\n",
    "f1_evaluator = MulticlassClassificationEvaluator(labelCol='churn', predictionCol='prediction', metricName='f1')\n",
    "f1_score = f1_evaluator.evaluate(predictions)\n",
    "\n",
    "print(f\"Test set accuracy: {accuracy:.2f}\")\n",
    "print(f\"Test set weighted precision: {precision:.2f}\")\n",
    "print(f\"Test set weighted recall: {recall:.2f}\")\n",
    "print(f\"Test set F1 score: {f1_score:.2f}\")"
   ]
  },
  {
   "cell_type": "code",
   "execution_count": 14,
   "id": "d1e0a325-b431-4657-9b81-2ead1ef15d1b",
   "metadata": {},
   "outputs": [
    {
     "data": {
      "image/png": "[encoded data removed]",
      "text/plain": [
       "<Figure size 800x600 with 2 Axes>"
      ]
     },
     "metadata": {},
     "output_type": "display_data"
    }
   ],
   "source": [
    "#confusion matrix\n",
    "y_true = predictions.select('churn').toPandas()\n",
    "y_pred = predictions.select('prediction').toPandas()\n",
    "\n",
    "cm = confusion_matrix(y_true, y_pred)\n",
    "plt.figure(figsize=(8, 6))\n",
    "sns.heatmap(cm, annot=True, fmt='d', cmap='Blues', xticklabels=['No Churn', 'Churn'], yticklabels=['No Churn', 'Churn'])\n",
    "plt.ylabel('Actual')\n",
    "plt.xlabel('Predicted')\n",
    "plt.title('Confusion Matrix')\n",
    "plt.show()"
   ]
  },
  {
   "cell_type": "code",
   "execution_count": 15,
   "id": "22f07ced-d569-4916-b642-8a7d0ddcd6f7",
   "metadata": {},
   "outputs": [
    {
     "data": {
      "image/png": "[encoded data removed]",
      "text/plain": [
       "<Figure size 800x600 with 1 Axes>"
      ]
     },
     "metadata": {},
     "output_type": "display_data"
    }
   ],
   "source": [
    "#ROC curve\n",
    "y_scores = model.transform(test_data).select('probability').toPandas()\n",
    "y_scores = [p[1] for p in y_scores['probability']]\n",
    "\n",
    "fpr, tpr, thresholds = roc_curve(y_true, y_scores)\n",
    "roc_auc = auc(fpr, tpr)\n",
    "plt.figure(figsize=(8, 6))\n",
    "plt.plot(fpr, tpr, color='blue', lw=2, label='ROC curve (area = {:.2f})'.format(roc_auc))\n",
    "plt.plot([0, 1], [0, 1], color='red', lw=2, linestyle='--')\n",
    "plt.xlim([0.0, 1.0])\n",
    "plt.ylim([0.0, 1.0])\n",
    "plt.xlabel('False Positive Rate')\n",
    "plt.ylabel('True Positive Rate')\n",
    "plt.title('Receiver Operating Characteristic')\n",
    "plt.legend(loc='lower right')\n",
    "plt.show()"
   ]
  },
  {
   "cell_type": "code",
   "execution_count": 17,
   "id": "deffc919-a9ff-4926-831c-8bf3572f2973",
   "metadata": {},
   "outputs": [
    {
     "data": {
      "image/png": "[encoded data removed]",
      "text/plain": [
       "<Figure size 1000x600 with 1 Axes>"
      ]
     },
     "metadata": {},
     "output_type": "display_data"
    }
   ],
   "source": [
    "#feature importances graph\n",
    "importances = model.featureImportances.toArray()\n",
    "features = feature_columns\n",
    "\n",
    "feature_importance_df = pd.DataFrame({'Feature': features, 'Importance': importances})\n",
    "plt.figure(figsize=(10, 6))\n",
    "sns.barplot(x='Importance', y='Feature', data=feature_importance_df.sort_values('Importance', ascending=False))\n",
    "plt.title('Feature Importance')\n",
    "plt.show()"
   ]
  },
  {
   "cell_type": "code",
   "execution_count": 18,
   "id": "e3d8219b-fb25-4558-b8e9-4f0fb6dde43f",
   "metadata": {},
   "outputs": [],
   "source": [
    "spark.stop() #stopping the Spark session"
   ]
  },
  {
   "cell_type": "markdown",
   "id": "d99e05a7-b5dd-45bf-beea-c1ff45d25162",
   "metadata": {},
   "source": [
    "## Results and Evaluation\n",
    "\n",
    "+ With its big data processing capabilities, Spark has enabled us to achieve significant results with the developed model, demonstrating its effectiveness in predicting customer churn. The high accuracy and F1 score indicate that the model classifies both positive and negative examples effectively.\n",
    "\n",
    "+ Using the results obtained from the data with the model developed in this project, marketing strategies can be enhanced. Special campaigns can be created for customers at high risk of churn. This way, customer churn can be reduced, and customer loyalty can be increased."
   ]
  }
 ],
 "metadata": {
  "kernelspec": {
   "display_name": "Python 3 (ipykernel)",
   "language": "python",
   "name": "python3"
  },
  "language_info": {
   "codemirror_mode": {
    "name": "ipython",
    "version": 3
   },
   "file_extension": ".py",
   "mimetype": "text/x-python",
   "name": "python",
   "nbconvert_exporter": "python",
   "pygments_lexer": "ipython3",
   "version": "3.12.7"
  }
 },
 "nbformat": 4,
 "nbformat_minor": 5
}
